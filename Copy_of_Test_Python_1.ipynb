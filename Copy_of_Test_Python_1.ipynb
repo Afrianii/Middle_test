def third_place(names, scores):
  
  srt_data = sorted(zip(names, scores), key=lambda x: x[1], reverse=True)
  third_place_name = srt_data[2][0]
  return third_place_name

names = ["Gohana", "Jini", "Ganang", "Bima", "Ayu"]
scores = [75, 98, 82, 88, 65]

third_place_name = third_place(names, scores)
print(f"Peringkat Ketiga adalah : {third_place_name}")
